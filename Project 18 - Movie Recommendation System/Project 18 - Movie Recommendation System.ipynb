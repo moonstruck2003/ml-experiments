{
 "cells": [
  {
   "cell_type": "code",
   "execution_count": 9,
   "id": "bf6d3ed5-65d1-4a7e-8651-5e2e938fea28",
   "metadata": {},
   "outputs": [],
   "source": [
    "import numpy as np\n",
    "import pandas as pd\n",
    "import difflib #for close match \n",
    "from sklearn.feature_extraction.text import TfidfVectorizer #transforing the textual data to numerical data \n",
    "from sklearn.metrics.pairwise import cosine_similarity #for close match similarity score \n"
   ]
  },
  {
   "cell_type": "code",
   "execution_count": 10,
   "id": "ebd15743-bc96-4680-b475-e20f7927d85a",
   "metadata": {},
   "outputs": [
    {
     "data": {
      "text/html": [
       "<div>\n",
       "<style scoped>\n",
       "    .dataframe tbody tr th:only-of-type {\n",
       "        vertical-align: middle;\n",
       "    }\n",
       "\n",
       "    .dataframe tbody tr th {\n",
       "        vertical-align: top;\n",
       "    }\n",
       "\n",
       "    .dataframe thead th {\n",
       "        text-align: right;\n",
       "    }\n",
       "</style>\n",
       "<table border=\"1\" class=\"dataframe\">\n",
       "  <thead>\n",
       "    <tr style=\"text-align: right;\">\n",
       "      <th></th>\n",
       "      <th>index</th>\n",
       "      <th>budget</th>\n",
       "      <th>genres</th>\n",
       "      <th>homepage</th>\n",
       "      <th>id</th>\n",
       "      <th>keywords</th>\n",
       "      <th>original_language</th>\n",
       "      <th>original_title</th>\n",
       "      <th>overview</th>\n",
       "      <th>popularity</th>\n",
       "      <th>...</th>\n",
       "      <th>runtime</th>\n",
       "      <th>spoken_languages</th>\n",
       "      <th>status</th>\n",
       "      <th>tagline</th>\n",
       "      <th>title</th>\n",
       "      <th>vote_average</th>\n",
       "      <th>vote_count</th>\n",
       "      <th>cast</th>\n",
       "      <th>crew</th>\n",
       "      <th>director</th>\n",
       "    </tr>\n",
       "  </thead>\n",
       "  <tbody>\n",
       "    <tr>\n",
       "      <th>0</th>\n",
       "      <td>0</td>\n",
       "      <td>237000000</td>\n",
       "      <td>Action Adventure Fantasy Science Fiction</td>\n",
       "      <td>http://www.avatarmovie.com/</td>\n",
       "      <td>19995</td>\n",
       "      <td>culture clash future space war space colony so...</td>\n",
       "      <td>en</td>\n",
       "      <td>Avatar</td>\n",
       "      <td>In the 22nd century, a paraplegic Marine is di...</td>\n",
       "      <td>150.437577</td>\n",
       "      <td>...</td>\n",
       "      <td>162.0</td>\n",
       "      <td>[{\"iso_639_1\": \"en\", \"name\": \"English\"}, {\"iso...</td>\n",
       "      <td>Released</td>\n",
       "      <td>Enter the World of Pandora.</td>\n",
       "      <td>Avatar</td>\n",
       "      <td>7.2</td>\n",
       "      <td>11800</td>\n",
       "      <td>Sam Worthington Zoe Saldana Sigourney Weaver S...</td>\n",
       "      <td>[{'name': 'Stephen E. Rivkin', 'gender': 0, 'd...</td>\n",
       "      <td>James Cameron</td>\n",
       "    </tr>\n",
       "    <tr>\n",
       "      <th>1</th>\n",
       "      <td>1</td>\n",
       "      <td>300000000</td>\n",
       "      <td>Adventure Fantasy Action</td>\n",
       "      <td>http://disney.go.com/disneypictures/pirates/</td>\n",
       "      <td>285</td>\n",
       "      <td>ocean drug abuse exotic island east india trad...</td>\n",
       "      <td>en</td>\n",
       "      <td>Pirates of the Caribbean: At World's End</td>\n",
       "      <td>Captain Barbossa, long believed to be dead, ha...</td>\n",
       "      <td>139.082615</td>\n",
       "      <td>...</td>\n",
       "      <td>169.0</td>\n",
       "      <td>[{\"iso_639_1\": \"en\", \"name\": \"English\"}]</td>\n",
       "      <td>Released</td>\n",
       "      <td>At the end of the world, the adventure begins.</td>\n",
       "      <td>Pirates of the Caribbean: At World's End</td>\n",
       "      <td>6.9</td>\n",
       "      <td>4500</td>\n",
       "      <td>Johnny Depp Orlando Bloom Keira Knightley Stel...</td>\n",
       "      <td>[{'name': 'Dariusz Wolski', 'gender': 2, 'depa...</td>\n",
       "      <td>Gore Verbinski</td>\n",
       "    </tr>\n",
       "    <tr>\n",
       "      <th>2</th>\n",
       "      <td>2</td>\n",
       "      <td>245000000</td>\n",
       "      <td>Action Adventure Crime</td>\n",
       "      <td>http://www.sonypictures.com/movies/spectre/</td>\n",
       "      <td>206647</td>\n",
       "      <td>spy based on novel secret agent sequel mi6</td>\n",
       "      <td>en</td>\n",
       "      <td>Spectre</td>\n",
       "      <td>A cryptic message from Bond’s past sends him o...</td>\n",
       "      <td>107.376788</td>\n",
       "      <td>...</td>\n",
       "      <td>148.0</td>\n",
       "      <td>[{\"iso_639_1\": \"fr\", \"name\": \"Fran\\u00e7ais\"},...</td>\n",
       "      <td>Released</td>\n",
       "      <td>A Plan No One Escapes</td>\n",
       "      <td>Spectre</td>\n",
       "      <td>6.3</td>\n",
       "      <td>4466</td>\n",
       "      <td>Daniel Craig Christoph Waltz L\\u00e9a Seydoux ...</td>\n",
       "      <td>[{'name': 'Thomas Newman', 'gender': 2, 'depar...</td>\n",
       "      <td>Sam Mendes</td>\n",
       "    </tr>\n",
       "    <tr>\n",
       "      <th>3</th>\n",
       "      <td>3</td>\n",
       "      <td>250000000</td>\n",
       "      <td>Action Crime Drama Thriller</td>\n",
       "      <td>http://www.thedarkknightrises.com/</td>\n",
       "      <td>49026</td>\n",
       "      <td>dc comics crime fighter terrorist secret ident...</td>\n",
       "      <td>en</td>\n",
       "      <td>The Dark Knight Rises</td>\n",
       "      <td>Following the death of District Attorney Harve...</td>\n",
       "      <td>112.312950</td>\n",
       "      <td>...</td>\n",
       "      <td>165.0</td>\n",
       "      <td>[{\"iso_639_1\": \"en\", \"name\": \"English\"}]</td>\n",
       "      <td>Released</td>\n",
       "      <td>The Legend Ends</td>\n",
       "      <td>The Dark Knight Rises</td>\n",
       "      <td>7.6</td>\n",
       "      <td>9106</td>\n",
       "      <td>Christian Bale Michael Caine Gary Oldman Anne ...</td>\n",
       "      <td>[{'name': 'Hans Zimmer', 'gender': 2, 'departm...</td>\n",
       "      <td>Christopher Nolan</td>\n",
       "    </tr>\n",
       "    <tr>\n",
       "      <th>4</th>\n",
       "      <td>4</td>\n",
       "      <td>260000000</td>\n",
       "      <td>Action Adventure Science Fiction</td>\n",
       "      <td>http://movies.disney.com/john-carter</td>\n",
       "      <td>49529</td>\n",
       "      <td>based on novel mars medallion space travel pri...</td>\n",
       "      <td>en</td>\n",
       "      <td>John Carter</td>\n",
       "      <td>John Carter is a war-weary, former military ca...</td>\n",
       "      <td>43.926995</td>\n",
       "      <td>...</td>\n",
       "      <td>132.0</td>\n",
       "      <td>[{\"iso_639_1\": \"en\", \"name\": \"English\"}]</td>\n",
       "      <td>Released</td>\n",
       "      <td>Lost in our world, found in another.</td>\n",
       "      <td>John Carter</td>\n",
       "      <td>6.1</td>\n",
       "      <td>2124</td>\n",
       "      <td>Taylor Kitsch Lynn Collins Samantha Morton Wil...</td>\n",
       "      <td>[{'name': 'Andrew Stanton', 'gender': 2, 'depa...</td>\n",
       "      <td>Andrew Stanton</td>\n",
       "    </tr>\n",
       "  </tbody>\n",
       "</table>\n",
       "<p>5 rows × 24 columns</p>\n",
       "</div>"
      ],
      "text/plain": [
       "   index     budget                                    genres  \\\n",
       "0      0  237000000  Action Adventure Fantasy Science Fiction   \n",
       "1      1  300000000                  Adventure Fantasy Action   \n",
       "2      2  245000000                    Action Adventure Crime   \n",
       "3      3  250000000               Action Crime Drama Thriller   \n",
       "4      4  260000000          Action Adventure Science Fiction   \n",
       "\n",
       "                                       homepage      id  \\\n",
       "0                   http://www.avatarmovie.com/   19995   \n",
       "1  http://disney.go.com/disneypictures/pirates/     285   \n",
       "2   http://www.sonypictures.com/movies/spectre/  206647   \n",
       "3            http://www.thedarkknightrises.com/   49026   \n",
       "4          http://movies.disney.com/john-carter   49529   \n",
       "\n",
       "                                            keywords original_language  \\\n",
       "0  culture clash future space war space colony so...                en   \n",
       "1  ocean drug abuse exotic island east india trad...                en   \n",
       "2         spy based on novel secret agent sequel mi6                en   \n",
       "3  dc comics crime fighter terrorist secret ident...                en   \n",
       "4  based on novel mars medallion space travel pri...                en   \n",
       "\n",
       "                             original_title  \\\n",
       "0                                    Avatar   \n",
       "1  Pirates of the Caribbean: At World's End   \n",
       "2                                   Spectre   \n",
       "3                     The Dark Knight Rises   \n",
       "4                               John Carter   \n",
       "\n",
       "                                            overview  popularity  ... runtime  \\\n",
       "0  In the 22nd century, a paraplegic Marine is di...  150.437577  ...   162.0   \n",
       "1  Captain Barbossa, long believed to be dead, ha...  139.082615  ...   169.0   \n",
       "2  A cryptic message from Bond’s past sends him o...  107.376788  ...   148.0   \n",
       "3  Following the death of District Attorney Harve...  112.312950  ...   165.0   \n",
       "4  John Carter is a war-weary, former military ca...   43.926995  ...   132.0   \n",
       "\n",
       "                                    spoken_languages    status  \\\n",
       "0  [{\"iso_639_1\": \"en\", \"name\": \"English\"}, {\"iso...  Released   \n",
       "1           [{\"iso_639_1\": \"en\", \"name\": \"English\"}]  Released   \n",
       "2  [{\"iso_639_1\": \"fr\", \"name\": \"Fran\\u00e7ais\"},...  Released   \n",
       "3           [{\"iso_639_1\": \"en\", \"name\": \"English\"}]  Released   \n",
       "4           [{\"iso_639_1\": \"en\", \"name\": \"English\"}]  Released   \n",
       "\n",
       "                                          tagline  \\\n",
       "0                     Enter the World of Pandora.   \n",
       "1  At the end of the world, the adventure begins.   \n",
       "2                           A Plan No One Escapes   \n",
       "3                                 The Legend Ends   \n",
       "4            Lost in our world, found in another.   \n",
       "\n",
       "                                      title vote_average vote_count  \\\n",
       "0                                    Avatar          7.2      11800   \n",
       "1  Pirates of the Caribbean: At World's End          6.9       4500   \n",
       "2                                   Spectre          6.3       4466   \n",
       "3                     The Dark Knight Rises          7.6       9106   \n",
       "4                               John Carter          6.1       2124   \n",
       "\n",
       "                                                cast  \\\n",
       "0  Sam Worthington Zoe Saldana Sigourney Weaver S...   \n",
       "1  Johnny Depp Orlando Bloom Keira Knightley Stel...   \n",
       "2  Daniel Craig Christoph Waltz L\\u00e9a Seydoux ...   \n",
       "3  Christian Bale Michael Caine Gary Oldman Anne ...   \n",
       "4  Taylor Kitsch Lynn Collins Samantha Morton Wil...   \n",
       "\n",
       "                                                crew           director  \n",
       "0  [{'name': 'Stephen E. Rivkin', 'gender': 0, 'd...      James Cameron  \n",
       "1  [{'name': 'Dariusz Wolski', 'gender': 2, 'depa...     Gore Verbinski  \n",
       "2  [{'name': 'Thomas Newman', 'gender': 2, 'depar...         Sam Mendes  \n",
       "3  [{'name': 'Hans Zimmer', 'gender': 2, 'departm...  Christopher Nolan  \n",
       "4  [{'name': 'Andrew Stanton', 'gender': 2, 'depa...     Andrew Stanton  \n",
       "\n",
       "[5 rows x 24 columns]"
      ]
     },
     "execution_count": 10,
     "metadata": {},
     "output_type": "execute_result"
    }
   ],
   "source": [
    "#Data collection and preprocessing\n",
    "\n",
    "#importing the data from csv file to a pandas dataframe\n",
    "\n",
    "movies_data = pd.read_csv(\"movies.csv\")\n",
    "movies_data.head()"
   ]
  },
  {
   "cell_type": "code",
   "execution_count": 11,
   "id": "8aac0d8c-ffc2-4c49-a773-99d78f2a1209",
   "metadata": {},
   "outputs": [
    {
     "data": {
      "text/plain": [
       "(4803, 24)"
      ]
     },
     "execution_count": 11,
     "metadata": {},
     "output_type": "execute_result"
    }
   ],
   "source": [
    " movies_data.shape"
   ]
  },
  {
   "cell_type": "code",
   "execution_count": 12,
   "id": "6e044c23-af47-45aa-85f8-887700799a0f",
   "metadata": {},
   "outputs": [
    {
     "name": "stdout",
     "output_type": "stream",
     "text": [
      "['genres', 'keywords', 'tagline', 'cast', 'director']\n"
     ]
    }
   ],
   "source": [
    "#Selecting the relevant features for recommendation \n",
    "selected_features = ['genres','keywords','tagline','cast','director']\n",
    "print(selected_features)"
   ]
  },
  {
   "cell_type": "code",
   "execution_count": 13,
   "id": "4c3702c1-75c3-46c8-a2ce-a21ae97da5e8",
   "metadata": {},
   "outputs": [],
   "source": [
    "#replacing the null values with null string \n",
    "for feature in selected_features: \n",
    "    movies_data[feature]=movies_data[feature].fillna('')"
   ]
  },
  {
   "cell_type": "code",
   "execution_count": 14,
   "id": "8327c517-9f9e-4e5f-8025-ef28dab66ff4",
   "metadata": {},
   "outputs": [],
   "source": [
    "#combining all the 5 selected features \n",
    "combined_features = movies_data['genres']+movies_data['keywords']+movies_data['tagline']+movies_data['cast']+movies_data['director']"
   ]
  },
  {
   "cell_type": "code",
   "execution_count": 18,
   "id": "5be73ac7-b4f8-49d0-bcde-ca3a3f034b3e",
   "metadata": {},
   "outputs": [],
   "source": [
    "#converting the text data to feature vectors \n",
    "vectorizer = TfidfVectorizer()\n",
    "feature_vectors = vectorizer.fit_transform(combined_features)"
   ]
  },
  {
   "cell_type": "code",
   "execution_count": 19,
   "id": "802b007e-4a29-4f1c-ad29-98dc4ef70738",
   "metadata": {},
   "outputs": [
    {
     "name": "stdout",
     "output_type": "stream",
     "text": [
      "<Compressed Sparse Row sparse matrix of dtype 'float64'\n",
      "\twith 111820 stored elements and shape (4803, 27580)>\n",
      "  Coords\tValues\n",
      "  (0, 245)\t0.07858581760804864\n",
      "  (0, 444)\t0.09109355212252296\n",
      "  (0, 8936)\t0.11806131645084655\n",
      "  (0, 21836)\t0.09966592997173947\n",
      "  (0, 9304)\t0.27385789694599244\n",
      "  (0, 4456)\t0.2179967521551067\n",
      "  (0, 10193)\t0.1653243242081299\n",
      "  (0, 22916)\t0.3366875640692919\n",
      "  (0, 26334)\t0.130597230719163\n",
      "  (0, 4676)\t0.24529097704249617\n",
      "  (0, 22778)\t0.27385789694599244\n",
      "  (0, 24197)\t0.07518543993419267\n",
      "  (0, 27161)\t0.12619886579371511\n",
      "  (0, 18164)\t0.08690831799482268\n",
      "  (0, 18558)\t0.26121683351048536\n",
      "  (0, 21521)\t0.15623566659433683\n",
      "  (0, 27182)\t0.23480088356130557\n",
      "  (0, 27540)\t0.19771357974524179\n",
      "  (0, 21487)\t0.21550128478931552\n",
      "  (0, 22464)\t0.2020708956871175\n",
      "  (0, 26547)\t0.19638671147741735\n",
      "  (0, 23267)\t0.16128139780622522\n",
      "  (0, 14550)\t0.22368093636480682\n",
      "  (0, 16614)\t0.1569607387745327\n",
      "  (0, 20729)\t0.27385789694599244\n",
      "  :\t:\n",
      "  (4801, 18790)\t0.22450140828104795\n",
      "  (4801, 11776)\t0.3005604008026175\n",
      "  (4801, 758)\t0.19369913462690624\n",
      "  (4801, 8121)\t0.2611505149930138\n",
      "  (4801, 27513)\t0.3005604008026175\n",
      "  (4801, 27361)\t0.31510541707008866\n",
      "  (4801, 22170)\t0.31510541707008866\n",
      "  (4801, 5449)\t0.31510541707008866\n",
      "  (4801, 21297)\t0.31510541707008866\n",
      "  (4801, 22322)\t0.31510541707008866\n",
      "  (4801, 12520)\t0.31510541707008866\n",
      "  (4802, 7626)\t0.17686850692938538\n",
      "  (4802, 3128)\t0.17288424030654004\n",
      "  (4802, 8313)\t0.1713172199751922\n",
      "  (4802, 5354)\t0.2196244946235084\n",
      "  (4802, 2027)\t0.19514642661077047\n",
      "  (4802, 20664)\t0.1718311116708895\n",
      "  (4802, 11042)\t0.2245754361399493\n",
      "  (4802, 5847)\t0.2598601666162226\n",
      "  (4802, 9174)\t0.23381507827213685\n",
      "  (4802, 3569)\t0.2526933433912742\n",
      "  (4802, 6978)\t0.28212235292045307\n",
      "  (4802, 10640)\t0.28212235292045307\n",
      "  (4802, 11874)\t0.5642447058409061\n",
      "  (4802, 7770)\t0.28212235292045307\n"
     ]
    }
   ],
   "source": [
    "\n",
    "print(feature_vectors)"
   ]
  },
  {
   "cell_type": "code",
   "execution_count": 20,
   "id": "dacd74bd-867b-4215-8ff6-e5d1496fd605",
   "metadata": {},
   "outputs": [],
   "source": [
    "#Cosine Similarity \n",
    "#Getting the similarity score from cosine similiarty \n",
    "similarity = cosine_similarity(feature_vectors)"
   ]
  },
  {
   "cell_type": "code",
   "execution_count": 21,
   "id": "b827f3bd-40c4-4056-8ba8-01886c71d419",
   "metadata": {},
   "outputs": [
    {
     "name": "stdout",
     "output_type": "stream",
     "text": [
      "[[1.         0.06865296 0.01492221 ... 0.         0.         0.        ]\n",
      " [0.06865296 1.         0.02799128 ... 0.01243107 0.         0.        ]\n",
      " [0.01492221 0.02799128 1.         ... 0.         0.         0.        ]\n",
      " ...\n",
      " [0.         0.01243107 0.         ... 1.         0.         0.        ]\n",
      " [0.         0.         0.         ... 0.         1.         0.        ]\n",
      " [0.         0.         0.         ... 0.         0.         1.        ]]\n"
     ]
    }
   ],
   "source": [
    "print(similarity)"
   ]
  },
  {
   "cell_type": "code",
   "execution_count": 22,
   "id": "9f672f89-1cdc-4a58-82c6-17f7b24e27c3",
   "metadata": {},
   "outputs": [
    {
     "data": {
      "text/plain": [
       "(4803, 4803)"
      ]
     },
     "execution_count": 22,
     "metadata": {},
     "output_type": "execute_result"
    }
   ],
   "source": [
    "similarity.shape"
   ]
  },
  {
   "cell_type": "code",
   "execution_count": 24,
   "id": "8b2c9032-3bc2-4088-a866-7176db8d8db6",
   "metadata": {},
   "outputs": [
    {
     "name": "stdin",
     "output_type": "stream",
     "text": [
      "Enter your favourite movie name :  Iron Man\n"
     ]
    }
   ],
   "source": [
    "#getting the movie name from the user \n",
    "movie_name = input('Enter your favourite movie name : ')"
   ]
  },
  {
   "cell_type": "code",
   "execution_count": 25,
   "id": "6eade496-321a-4a5c-a440-93016a2225da",
   "metadata": {},
   "outputs": [],
   "source": [
    "#creating a list with all the movie names given in the set \n",
    "\n",
    "list_of_all_titles = movies_data['title'].tolist()"
   ]
  },
  {
   "cell_type": "code",
   "execution_count": null,
   "id": "6a188f69-c61f-4096-af50-f3b510acac91",
   "metadata": {},
   "outputs": [],
   "source": []
  },
  {
   "cell_type": "code",
   "execution_count": 26,
   "id": "6eb9df97-c790-42a2-b04c-373d7223b8f3",
   "metadata": {},
   "outputs": [
    {
     "name": "stdout",
     "output_type": "stream",
     "text": [
      "['Iron Man', 'Iron Man 3', 'Iron Man 2']\n"
     ]
    }
   ],
   "source": [
    "#Finding the close match for the movie name given by the user \n",
    "find_close_match = difflib.get_close_matches(movie_name,list_of_all_titles)\n",
    "print(find_close_match)"
   ]
  },
  {
   "cell_type": "code",
   "execution_count": 27,
   "id": "f8d7f89f-4ed4-438a-a7cd-7787d55fcd93",
   "metadata": {},
   "outputs": [
    {
     "name": "stdout",
     "output_type": "stream",
     "text": [
      "Iron Man\n"
     ]
    }
   ],
   "source": [
    "close_match = find_close_match[0]\n",
    "print(close_match)"
   ]
  },
  {
   "cell_type": "code",
   "execution_count": 32,
   "id": "0bf5b273-7330-4496-9cf8-6c9dc789c15f",
   "metadata": {},
   "outputs": [
    {
     "name": "stdout",
     "output_type": "stream",
     "text": [
      "68\n"
     ]
    }
   ],
   "source": [
    "#finding the index of the movies with title \n",
    "index_of_movie = movies_data[movies_data.title == close_match]['index'].values[0]\n",
    "print(index_of_movie)"
   ]
  },
  {
   "cell_type": "code",
   "execution_count": 39,
   "id": "6e4e3e06-ddc8-431e-be1c-fb1aa4003dc6",
   "metadata": {},
   "outputs": [],
   "source": [
    "#getting a list of similar movies \n",
    "\n",
    "similarity_score = list(enumerate(similarity[index_of_movie]))\n",
    "#print(similarity_score)"
   ]
  },
  {
   "cell_type": "code",
   "execution_count": 36,
   "id": "79c12cf6-a972-4e56-b15f-733f95ffbbf2",
   "metadata": {},
   "outputs": [
    {
     "data": {
      "text/plain": [
       "4803"
      ]
     },
     "execution_count": 36,
     "metadata": {},
     "output_type": "execute_result"
    }
   ],
   "source": [
    "len(similarity_score)"
   ]
  },
  {
   "cell_type": "code",
   "execution_count": 40,
   "id": "26f4d4b0-23fa-4945-a3f7-038699170df7",
   "metadata": {},
   "outputs": [],
   "source": [
    "#sorting the movies based on their ssimilarity_score\n",
    "\n",
    "sorted_similar_movies = sorted(similarity_score,key=lambda x:x[1],reverse=1)\n",
    "#print(sorted_similar_movies)"
   ]
  },
  {
   "cell_type": "code",
   "execution_count": 38,
   "id": "b478f4a8-848e-4ae6-a92a-aa8d8ce61482",
   "metadata": {},
   "outputs": [
    {
     "name": "stdout",
     "output_type": "stream",
     "text": [
      "Movies Suggested for you: \n",
      "\n",
      "1 . Iron Man\n",
      "2 . Iron Man 2\n",
      "3 . Iron Man 3\n",
      "4 . The Avengers\n",
      "5 . Captain America: Civil War\n",
      "6 . The Helix... Loaded\n",
      "7 . Avengers: Age of Ultron\n",
      "8 . X-Men: The Last Stand\n",
      "9 . X-Men: Days of Future Past\n",
      "10 . X-Men\n",
      "11 . X2\n",
      "12 . Made\n",
      "13 . Tropic Thunder\n",
      "14 . The Incredible Hulk\n",
      "15 . X-Men: Apocalypse\n",
      "16 . The Amazing Spider-Man 2\n",
      "17 . Captain America: The Winter Soldier\n",
      "18 . Gothika\n",
      "19 . X-Men: First Class\n",
      "20 . A Scanner Darkly\n",
      "21 . The Judge\n",
      "22 . Deadpool\n",
      "23 . The Best Man\n",
      "24 . The Nativity Story\n",
      "25 . Lucky You\n",
      "26 . The Kite Runner\n",
      "27 . Arlington Road\n",
      "28 . Ant-Man\n",
      "29 . The Hunting Party\n"
     ]
    }
   ],
   "source": [
    "#print the name of similar movies based on similarity \n",
    "print('Movies Suggested for you: \\n')\n",
    "i = 1\n",
    "for movie in sorted_similar_movies:\n",
    "    index = movie[0]\n",
    "    title_from_index=movies_data[movies_data.index==index]['title'].values[0]\n",
    "    if (i<30): \n",
    "        print(i, '.' ,title_from_index)\n",
    "        i+=1"
   ]
  },
  {
   "cell_type": "code",
   "execution_count": 45,
   "id": "c8d63faa-4ca0-4c6c-b908-fc73a6b093c9",
   "metadata": {},
   "outputs": [
    {
     "name": "stdin",
     "output_type": "stream",
     "text": [
      "Enter your favourite movie name :  Titanic\n"
     ]
    },
    {
     "name": "stdout",
     "output_type": "stream",
     "text": [
      "Movies Suggested for you: \n",
      "\n",
      "1 . Titanic\n",
      "2 . The Dilemma\n",
      "3 . Revolutionary Road\n",
      "4 . Heavenly Creatures\n",
      "5 . Flushed Away\n",
      "6 . Gangs of New York\n",
      "7 . Sense and Sensibility\n",
      "8 . The Great Gatsby\n",
      "9 . The Brothers Bloom\n",
      "10 . Shutter Island\n",
      "11 . The Beach\n",
      "12 . Body of Lies\n",
      "13 . Ladyhawke\n",
      "14 . The Believer\n",
      "15 . The Aviator\n",
      "16 . The Wolf of Wall Street\n",
      "17 . J. Edgar\n",
      "18 . Iris\n",
      "19 . The Departed\n",
      "20 . Dear John\n",
      "21 . Almost Famous\n",
      "22 . The Phantom\n",
      "23 . Eternal Sunshine of the Spotless Mind\n",
      "24 . Blue Car\n",
      "25 . The Revenant\n",
      "26 . Stuck on You\n",
      "27 . Blood Diamond\n",
      "28 . She's the One\n",
      "29 . What's Eating Gilbert Grape\n"
     ]
    }
   ],
   "source": [
    "#movie recommendation  system \n",
    "movie_name = input('Enter your favourite movie name : ')\n",
    "list_of_all_titles = movies_data['title'].tolist()\n",
    "find_close_match = difflib.get_close_matches(movie_name,list_of_all_titles)\n",
    "close_match = find_close_match[0]\n",
    "index_of_movie = movies_data[movies_data.title == close_match]['index'].values[0]\n",
    "similarity_score = list(enumerate(similarity[index_of_movie]))\n",
    "sorted_similar_movies = sorted(similarity_score,key=lambda x:x[1],reverse=1)\n",
    "print('Movies Suggested for you: \\n')\n",
    "i = 1\n",
    "for movie in sorted_similar_movies:\n",
    "    index = movie[0]\n",
    "    title_from_index=movies_data[movies_data.index==index]['title'].values[0]\n",
    "    if (i<30): \n",
    "        print(i, '.' ,title_from_index)\n",
    "        i+=1"
   ]
  },
  {
   "cell_type": "code",
   "execution_count": null,
   "id": "1a5c38fd-ba99-4a19-9acd-3013190c4054",
   "metadata": {},
   "outputs": [],
   "source": []
  }
 ],
 "metadata": {
  "kernelspec": {
   "display_name": "Python 3 (ipykernel)",
   "language": "python",
   "name": "python3"
  },
  "language_info": {
   "codemirror_mode": {
    "name": "ipython",
    "version": 3
   },
   "file_extension": ".py",
   "mimetype": "text/x-python",
   "name": "python",
   "nbconvert_exporter": "python",
   "pygments_lexer": "ipython3",
   "version": "3.13.3"
  }
 },
 "nbformat": 4,
 "nbformat_minor": 5
}
